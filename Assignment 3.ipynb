{
 "cells": [
  {
   "cell_type": "markdown",
   "id": "84f77ffd-3953-40dc-ab63-e73a95ae13ef",
   "metadata": {},
   "source": [
    "Q1. Which keyword is used to create a function? Create a function to return a list of odd numbers in the\n",
    "range of 1 to 25."
   ]
  },
  {
   "cell_type": "markdown",
   "id": "71ef5858-ca7d-439a-9ac8-31ea0b1902c7",
   "metadata": {},
   "source": [
    "Ans- 'def' keyword is used to create a function."
   ]
  },
  {
   "cell_type": "code",
   "execution_count": 13,
   "id": "eee0f3ba-d894-4e8b-ae16-57645e4e0efa",
   "metadata": {},
   "outputs": [
    {
     "name": "stdout",
     "output_type": "stream",
     "text": [
      "[1, 3, 5, 7, 9, 11, 13, 15, 17, 19, 21, 23, 25]\n"
     ]
    }
   ],
   "source": [
    "def odd_numbers():\n",
    "    odd_list = []\n",
    "    for num in range(1, 26):\n",
    "        if num % 2 != 0:\n",
    "            odd_list.append(num)\n",
    "    return odd_list\n",
    "\n",
    "# Calling the function to get the list of odd numbers\n",
    "result = odd_numbers()\n",
    "print(result)"
   ]
  },
  {
   "cell_type": "markdown",
   "id": "b1da3908-cea4-4bf5-bc53-dea5ff55dea3",
   "metadata": {},
   "source": [
    "Q2. Why *args and **kwargs is used in some functions? Create a function each for *args and **kwargs\n",
    "to demonstrate their use."
   ]
  },
  {
   "cell_type": "markdown",
   "id": "a29f0745-ab49-4b3d-aba0-84738136c5ce",
   "metadata": {},
   "source": [
    "Ans- *args and **kwargs are used in Python to pass a variable number of arguments to a function. \n"
   ]
  },
  {
   "cell_type": "code",
   "execution_count": 14,
   "id": "03e3aca8-3fdd-403a-8cc8-e85494a3dc09",
   "metadata": {},
   "outputs": [
    {
     "name": "stdout",
     "output_type": "stream",
     "text": [
      "24\n",
      "300\n"
     ]
    }
   ],
   "source": [
    "# *args is used to pass a variable number of positional arguments to a function.\n",
    "\n",
    "def multiply(*args):\n",
    "    result = 1\n",
    "    for num in args:\n",
    "        result *= num\n",
    "    return result\n",
    "\n",
    "# Example usage\n",
    "print(multiply(2, 3, 4))  # Output: 24\n",
    "print(multiply(5, 10, 2, 3))  # Output: 300\n"
   ]
  },
  {
   "cell_type": "code",
   "execution_count": 15,
   "id": "66dced9d-be38-44c1-8e56-7df9bd02a101",
   "metadata": {},
   "outputs": [
    {
     "name": "stdout",
     "output_type": "stream",
     "text": [
      "name: Alice\n",
      "age: 30\n",
      "city: New York\n"
     ]
    }
   ],
   "source": [
    "# **kwargs is used to pass a variable number of keyword arguments to a function.\n",
    "\n",
    "def print_info(**kwargs):\n",
    "    for key, value in kwargs.items():\n",
    "        print(f\"{key}: {value}\")\n",
    "\n",
    "# Example usage\n",
    "print_info(name=\"Alice\", age=30, city=\"New York\")"
   ]
  },
  {
   "cell_type": "markdown",
   "id": "042d20c6-f717-4045-bce5-f06197f738b8",
   "metadata": {},
   "source": [
    "Q3. What is an iterator in python? Name the method used to initialise the iterator object and the method\n",
    "used for iteration. Use these methods to print the first five elements of the given list [2, 4, 6, 8, 10, 12,14,16, 18, 20]."
   ]
  },
  {
   "cell_type": "markdown",
   "id": "7e3aebfc-c775-474f-afb7-b440207eaca5",
   "metadata": {},
   "source": [
    "Ans- An iterator in Python is an object that allows traversing through all the elements in a collection. The methods used are:\n",
    "\n",
    "1. __iter__(): Initializes the iterator object.\n",
    "2. __next__(): Returns the next item in the collection.\n",
    "\n",
    "To print the first five elements of the list [2, 4, 6, 8, 10, 12, 14, 16, 18, 20]:"
   ]
  },
  {
   "cell_type": "code",
   "execution_count": 16,
   "id": "1cdd2d60-833e-4402-9d57-c678a5f9e1d0",
   "metadata": {},
   "outputs": [
    {
     "name": "stdout",
     "output_type": "stream",
     "text": [
      "2\n",
      "4\n",
      "6\n",
      "8\n",
      "10\n"
     ]
    }
   ],
   "source": [
    "# Given list\n",
    "numbers = [2, 4, 6, 8, 10, 12, 14, 16, 18, 20]\n",
    "\n",
    "# Get an iterator object from the list\n",
    "iterator = iter(numbers)\n",
    "\n",
    "# Use a loop to print the first five elements\n",
    "for _ in range(5):\n",
    "    print(next(iterator))\n"
   ]
  },
  {
   "cell_type": "markdown",
   "id": "ebc0ad53-9c66-4fb8-a827-c64ddd55c66a",
   "metadata": {},
   "source": [
    "Q4. What is a generator function in python? Why yield keyword is used? Give an example of a generator function."
   ]
  },
  {
   "cell_type": "markdown",
   "id": "84644900-4447-4610-99a1-89649c6195d4",
   "metadata": {},
   "source": [
    "Ans- A generator function in Python returns an iterator that generates values one at a time using the yield keyword. The yield keyword allows the function to produce a series of values, pausing after each one until the next value is requested."
   ]
  },
  {
   "cell_type": "code",
   "execution_count": 17,
   "id": "1950bf20-05b7-43b6-8f17-2da543b0173b",
   "metadata": {},
   "outputs": [
    {
     "name": "stdout",
     "output_type": "stream",
     "text": [
      "1\n",
      "4\n",
      "9\n",
      "16\n",
      "25\n"
     ]
    },
    {
     "data": {
      "text/plain": [
       "generator"
      ]
     },
     "execution_count": 17,
     "metadata": {},
     "output_type": "execute_result"
    }
   ],
   "source": [
    "def square_numbers():\n",
    "    for i in range(1, 6):\n",
    "        yield i * i\n",
    "\n",
    "# Using the generator function\n",
    "gen = square_numbers()\n",
    "\n",
    "for value in gen:\n",
    "    print(value)\n",
    "    \n",
    "type(square_numbers())"
   ]
  },
  {
   "cell_type": "markdown",
   "id": "db3aa473-5616-44ea-9fc4-93de86414efc",
   "metadata": {},
   "source": [
    "Q5. Create a generator function for prime numbers less than 1000. Use the next() method to print the\n",
    "first 20 prime numbers."
   ]
  },
  {
   "cell_type": "code",
   "execution_count": 18,
   "id": "079e87b8-0eb3-43d4-8242-994698128d30",
   "metadata": {},
   "outputs": [
    {
     "name": "stdout",
     "output_type": "stream",
     "text": [
      "2\n",
      "3\n",
      "5\n",
      "7\n",
      "11\n",
      "13\n",
      "17\n",
      "19\n",
      "23\n",
      "29\n",
      "31\n",
      "37\n",
      "41\n",
      "43\n",
      "47\n",
      "53\n",
      "59\n",
      "61\n",
      "67\n",
      "71\n"
     ]
    }
   ],
   "source": [
    "def prime_numbers():\n",
    "    for num in range(2, 1000):\n",
    "        for i in range(2, int(num ** 0.5) + 1):\n",
    "            if num % i == 0:\n",
    "                break\n",
    "        else:\n",
    "            yield num\n",
    "\n",
    "# Using the generator function\n",
    "gen = prime_numbers()\n",
    "\n",
    "# Printing the first 20 prime numbers\n",
    "for _ in range(20):\n",
    "    print(next(gen))\n"
   ]
  },
  {
   "cell_type": "markdown",
   "id": "fea072b6-615f-4287-8bbb-23c32a780ed0",
   "metadata": {},
   "source": [
    "Q6. Write a python program to print the first 10 Fibonacci numbers using a while loop."
   ]
  },
  {
   "cell_type": "code",
   "execution_count": 19,
   "id": "f7aa4559-3832-4e2f-88a2-7997e49e7c82",
   "metadata": {},
   "outputs": [
    {
     "name": "stdout",
     "output_type": "stream",
     "text": [
      "0 1 1 2 3 5 8 13 21 34 "
     ]
    }
   ],
   "source": [
    "# Initialize the first two Fibonacci numbers\n",
    "a, b = 0, 1\n",
    "count = 0\n",
    "\n",
    "# Print the first 10 Fibonacci numbers\n",
    "while count < 10:\n",
    "    print(a, end=\" \")\n",
    "    # Calculate the next Fibonacci number\n",
    "    a, b = b, a + b\n",
    "    count += 1"
   ]
  },
  {
   "cell_type": "markdown",
   "id": "4560f460-c325-4610-aaf5-ddd326fcbd54",
   "metadata": {},
   "source": [
    "Q7. Write a List Comprehension to iterate through the given string: ‘pwskills’.\n",
    "Expected output: ['p', 'w', 's', 'k', 'i', 'l', 'l', 's']"
   ]
  },
  {
   "cell_type": "code",
   "execution_count": 20,
   "id": "135ff831-e332-4748-8265-2c9e38014a4b",
   "metadata": {},
   "outputs": [
    {
     "data": {
      "text/plain": [
       "['p', 'w', 's', 'k', 'i', 'l', 'l', 's']"
      ]
     },
     "execution_count": 20,
     "metadata": {},
     "output_type": "execute_result"
    }
   ],
   "source": [
    "# Given string\n",
    "s = 'pwskills'\n",
    "\n",
    "list(map(lambda s : s,s))"
   ]
  },
  {
   "cell_type": "code",
   "execution_count": 21,
   "id": "6e5738b1-877a-4170-b964-208541e79bf2",
   "metadata": {},
   "outputs": [
    {
     "name": "stdout",
     "output_type": "stream",
     "text": [
      "['p', 'w', 's', 'k', 'i', 'l', 'l', 's']\n"
     ]
    }
   ],
   "source": [
    "# Given string\n",
    "s = 'pwskills'\n",
    "\n",
    "l=[]\n",
    "for i in s:\n",
    "    l.append(i)\n",
    "    \n",
    "# Print the result\n",
    "print(l)"
   ]
  },
  {
   "cell_type": "markdown",
   "id": "6603beae-8388-4e19-a8a1-508e7d7d4c6c",
   "metadata": {},
   "source": [
    "Q8. Write a python program to check whether a given number is Palindrome or not using a while loop."
   ]
  },
  {
   "cell_type": "code",
   "execution_count": 22,
   "id": "be8e6584-d795-4982-9918-0576410982a1",
   "metadata": {},
   "outputs": [
    {
     "name": "stdin",
     "output_type": "stream",
     "text": [
      "Enter your number :  346\n"
     ]
    },
    {
     "name": "stdout",
     "output_type": "stream",
     "text": [
      "Number in not Palindrome\n"
     ]
    }
   ],
   "source": [
    "n = input(\"Enter your number : \")\n",
    "if n == n[::-1]:\n",
    "    print(\"Number is Palindrome\")\n",
    "else:\n",
    "    print(\"Number in not Palindrome\")"
   ]
  },
  {
   "cell_type": "markdown",
   "id": "39a7b97a-b57c-4f84-973b-af2be038085f",
   "metadata": {},
   "source": [
    "Q9. Write a code to print odd numbers from 1 to 100 using list comprehension.\n",
    "Note: Use a list comprehension to create a list from 1 to 100 and use another List comprehension to filter\n",
    "out odd numbers."
   ]
  },
  {
   "cell_type": "code",
   "execution_count": 23,
   "id": "8dbb57c1-bda9-4918-941f-b6abad75abc8",
   "metadata": {},
   "outputs": [
    {
     "name": "stdout",
     "output_type": "stream",
     "text": [
      "[1, 3, 5, 7, 9, 11, 13, 15, 17, 19, 21, 23, 25, 27, 29, 31, 33, 35, 37, 39, 41, 43, 45, 47, 49, 51, 53, 55, 57, 59, 61, 63, 65, 67, 69, 71, 73, 75, 77, 79, 81, 83, 85, 87, 89, 91, 93, 95, 97, 99]\n"
     ]
    }
   ],
   "source": [
    "# List comprehension to filter odd numbers from 1 to 100\n",
    "odd_numbers = [num for num in range(1, 101) if num % 2 != 0]\n",
    "\n",
    "# Print the list of odd numbers\n",
    "print(odd_numbers)"
   ]
  },
  {
   "cell_type": "code",
   "execution_count": null,
   "id": "a24b8f3b-e97f-422a-95ca-36cc7f41d6ff",
   "metadata": {},
   "outputs": [],
   "source": []
  }
 ],
 "metadata": {
  "kernelspec": {
   "display_name": "Python 3 (ipykernel)",
   "language": "python",
   "name": "python3"
  },
  "language_info": {
   "codemirror_mode": {
    "name": "ipython",
    "version": 3
   },
   "file_extension": ".py",
   "mimetype": "text/x-python",
   "name": "python",
   "nbconvert_exporter": "python",
   "pygments_lexer": "ipython3",
   "version": "3.10.8"
  }
 },
 "nbformat": 4,
 "nbformat_minor": 5
}
